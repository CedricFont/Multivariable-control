{
 "cells": [
  {
   "cell_type": "markdown",
   "metadata": {},
   "source": [
    "# Multivariable control - Exercise set 3"
   ]
  },
  {
   "cell_type": "code",
   "execution_count": 20,
   "metadata": {},
   "outputs": [],
   "source": [
    "import numpy as np\n",
    "import matplotlib.pyplot as plt\n",
    "from numpy import linalg as lg\n",
    "A = np.array([[0,0,0],[.5, .5, 0],[.5, .5, .5]])\n",
    "B = np.array([[1, 0],[0, 1],[0, 0]])\n",
    "Bp = np.array([[0],[1],[0]])"
   ]
  },
  {
   "cell_type": "markdown",
   "metadata": {},
   "source": [
    "Check unreachability. Here, n = 3."
   ]
  },
  {
   "cell_type": "code",
   "execution_count": 21,
   "metadata": {},
   "outputs": [
    {
     "name": "stdout",
     "output_type": "stream",
     "text": [
      "(3, 3)\n",
      "Rank of Mr =  2\n"
     ]
    }
   ],
   "source": [
    "Mr = np.concatenate((Bp, A@Bp, A@A@Bp), axis=1)\n",
    "print(Mr.shape)\n",
    "print('Rank of Mr = ',lg.matrix_rank(Mr))"
   ]
  },
  {
   "cell_type": "markdown",
   "metadata": {},
   "source": [
    "Since we need rank($M_r$) = n = 3, the system is unreachable. <br><br>\n",
    "Now, an unreachable state is a state which is impossible to steer the system to by acting on the inputs."
   ]
  },
  {
   "cell_type": "code",
   "execution_count": 23,
   "metadata": {},
   "outputs": [
    {
     "name": "stdout",
     "output_type": "stream",
     "text": [
      "A = \n",
      " [[0.  0.  0. ]\n",
      " [0.5 0.5 0. ]\n",
      " [0.5 0.5 0.5]] \n",
      "B = \n",
      " [[0]\n",
      " [1]\n",
      " [0]]\n"
     ]
    }
   ],
   "source": [
    "print('A = \\n',A,'\\nB = \\n',Bp)"
   ]
  },
  {
   "cell_type": "markdown",
   "metadata": {},
   "source": [
    "For example, it is not possible to attain the state $\\{1,0,0\\}$ starting from $x_0 = \\{0,0,0\\}$. <br><br>\n",
    "Now, add $u_1$ again and check reachability."
   ]
  },
  {
   "cell_type": "code",
   "execution_count": 24,
   "metadata": {},
   "outputs": [
    {
     "name": "stdout",
     "output_type": "stream",
     "text": [
      "(3, 6)\n",
      "Rank of Mr =  3\n"
     ]
    }
   ],
   "source": [
    "Mr = np.concatenate((B, A@B, A@A@B), axis=1)\n",
    "print(Mr.shape)\n",
    "print('Rank of Mr = ',lg.matrix_rank(Mr))"
   ]
  },
  {
   "cell_type": "markdown",
   "metadata": {},
   "source": [
    "So now, rank = n = 3."
   ]
  }
 ],
 "metadata": {
  "kernelspec": {
   "display_name": "Python 3",
   "language": "python",
   "name": "python3"
  },
  "language_info": {
   "codemirror_mode": {
    "name": "ipython",
    "version": 3
   },
   "file_extension": ".py",
   "mimetype": "text/x-python",
   "name": "python",
   "nbconvert_exporter": "python",
   "pygments_lexer": "ipython3",
   "version": "3.8.5"
  }
 },
 "nbformat": 4,
 "nbformat_minor": 4
}
